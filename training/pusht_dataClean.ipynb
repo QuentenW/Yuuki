{
 "cells": [
  {
   "cell_type": "code",
   "execution_count": 2,
   "metadata": {},
   "outputs": [],
   "source": [
    "import numpy as np\n",
    "import matplotlib.pyplot as plt\n",
    "import matplotlib.cm as cm\n",
    "import matplotlib.animation as animation\n",
    "import os, skvideo.io, json\n",
    "import zarr"
   ]
  },
  {
   "cell_type": "code",
   "execution_count": 3,
   "metadata": {},
   "outputs": [],
   "source": [
    "# Fix for stupid skvideo/numpy backwards compatability fuck up\n",
    "np.float = np.float64\n",
    "np.int = np.int_"
   ]
  },
  {
   "cell_type": "code",
   "execution_count": 4,
   "metadata": {},
   "outputs": [],
   "source": [
    "def collect_data(data_dir_path):\n",
    "    '''Loads video data and checks that corresponding position data exists.'''\n",
    "\n",
    "    data_dir = os.fsencode(data_dir_path)\n",
    "    img_data = []\n",
    "    pos_data = []\n",
    "    for file in os.listdir(data_dir):\n",
    "        filename = os.fsdecode(file)\n",
    "        if filename.endswith(\".mp4\"):\n",
    "            print(filename)\n",
    "            try:\n",
    "                videodata = skvideo.io.vread(f\"{data_dir_path}{filename}\")\n",
    "                timestamp = filename[:-4].split('_')[-1]\n",
    "                try:\n",
    "                    with open(f\"{data_dir_path}positional_data_{timestamp}.json\", 'r') as file:\n",
    "                        pos_data = json.load(file)\n",
    "                    img_data.append(videodata)\n",
    "                    pos_data.append(pos_data)\n",
    "                except FileNotFoundError as e:\n",
    "                    print(f\"BAD POSITION FILE: {e}\")\n",
    "            except ValueError as e:\n",
    "                print(f\"BAD VIDEO: {e}\")\n",
    "        elif filename.endswith(\".json\"):\n",
    "            continue\n",
    "\n",
    "    return img_data, pos_data"
   ]
  },
  {
   "cell_type": "code",
   "execution_count": 5,
   "metadata": {},
   "outputs": [],
   "source": [
    "def load_data(data_dir_path):\n",
    "    '''Loads all data without checking that (img,position) pair exists.'''\n",
    "\n",
    "    data_dir = os.fsencode(data_dir_path)\n",
    "    img_data = []\n",
    "    pos_data = []\n",
    "    for file in os.listdir(data_dir):\n",
    "        filename = os.fsdecode(file)\n",
    "        if filename.endswith(\".mp4\"):\n",
    "            try:\n",
    "                videodata = skvideo.io.vread(\n",
    "                    f\"{data_dir_path}{filename}\"\n",
    "                )\n",
    "                img_data.append(videodata)\n",
    "            except ValueError as e:\n",
    "                print(f\"BAD VIDEO {filename}: {e}\")\n",
    "        elif filename.endswith(\".json\"):\n",
    "            try:\n",
    "                with open(f\"{data_dir_path}{filename}\", 'r') as file:\n",
    "                    position = json.load(file)\n",
    "                pos_data.append(position)\n",
    "            except FileNotFoundError as e:\n",
    "                print(f\"Bad position {filename}: {e}\")\n",
    "\n",
    "    return img_data, pos_data"
   ]
  },
  {
   "cell_type": "code",
   "execution_count": 6,
   "metadata": {},
   "outputs": [
    {
     "name": "stdout",
     "output_type": "stream",
     "text": [
      "BAD VIDEO output_video_20241223-115746.mp4: No way to determine width or height from video. Need `-s` in `inputdict`. Consult documentation on I/O.\n",
      "BAD VIDEO output_video_20241223-115126.mp4: No way to determine width or height from video. Need `-s` in `inputdict`. Consult documentation on I/O.\n",
      "BAD VIDEO output_video_20241222-210701.mp4: No way to determine width or height from video. Need `-s` in `inputdict`. Consult documentation on I/O.\n",
      "BAD VIDEO output_video_20241222-210151.mp4: No way to determine width or height from video. Need `-s` in `inputdict`. Consult documentation on I/O.\n"
     ]
    }
   ],
   "source": [
    "data_dir = \"data/pusht/\"\n",
    "imgs, positions = load_data(data_dir)"
   ]
  },
  {
   "cell_type": "code",
   "execution_count": 22,
   "metadata": {},
   "outputs": [],
   "source": [
    "# Remove episodes that are too short and compute episode lengths\n",
    "imgs.sort(key=lambda x: x.shape[0])\n",
    "positions.sort(key=len)\n",
    "\n",
    "img_lens = [img.shape[0] for img in imgs]\n",
    "pos_lens = [len(pos) for pos in positions]\n",
    "imgs_clean = [imgs[i] for i,v in enumerate(img_lens) if v in pos_lens and v>=16]\n",
    "pos_clean = [positions[i] for i,v in enumerate(pos_lens) if v in img_lens and v>=16]\n",
    "episode_lengths = np.array([len(p) for p in pos_clean])"
   ]
  },
  {
   "cell_type": "code",
   "execution_count": 23,
   "metadata": {},
   "outputs": [],
   "source": [
    "# Convert to numpy arrays\n",
    "img_array = np.vstack(imgs_clean)\n",
    "pos_array = np.vstack([list(pos.values()) for pos in pos_clean])"
   ]
  },
  {
   "cell_type": "code",
   "execution_count": 24,
   "metadata": {},
   "outputs": [],
   "source": [
    "# Compute actions from positions: action[n] = position[n+1], end action repeats\n",
    "\n",
    "act_array = np.zeros_like(pos_array)\n",
    "start_idx = 0\n",
    "for length in episode_lengths:\n",
    "    end_idx = start_idx + length - 1\n",
    "    act_array[start_idx:end_idx] = pos_array[(start_idx+1):(end_idx+1)]\n",
    "    act_array[end_idx] = pos_array[end_idx]\n",
    "    start_idx += length"
   ]
  },
  {
   "cell_type": "code",
   "execution_count": 25,
   "metadata": {},
   "outputs": [
    {
     "name": "stdout",
     "output_type": "stream",
     "text": [
      "/\n",
      " ├── data\n",
      " │   ├── action (516, 4) float32\n",
      " │   ├── img (516, 512, 512, 3) float32\n",
      " │   └── state (516, 4) float32\n",
      " └── meta\n",
      "     └── episode_ends (8,) int64\n"
     ]
    }
   ],
   "source": [
    "# Save dataset in zarr\n",
    "store = zarr.ZipStore(\"data/pusht.zarr.zip\", mode='w')\n",
    "pusht_zarr = zarr.group(store=store)\n",
    "pusht_data = pusht_zarr.create_group('data')\n",
    "pusht_meta = pusht_zarr.create_group('meta')\n",
    "pusht_data['img'] = img_array.astype(np.float32)\n",
    "pusht_data['state'] = pos_array.astype(np.float32)\n",
    "pusht_data['action'] = act_array.astype(np.float32)\n",
    "pusht_meta['episode_ends'] = episode_lengths\n",
    "print(pusht_zarr.tree())\n",
    "store.close()"
   ]
  },
  {
   "cell_type": "code",
   "execution_count": 26,
   "metadata": {},
   "outputs": [
    {
     "data": {
      "text/plain": [
       "array([ 17,  26,  26,  33,  41,  93, 114, 166])"
      ]
     },
     "execution_count": 26,
     "metadata": {},
     "output_type": "execute_result"
    }
   ],
   "source": [
    "episode_lengths"
   ]
  },
  {
   "cell_type": "code",
   "execution_count": 27,
   "metadata": {},
   "outputs": [
    {
     "name": "stdout",
     "output_type": "stream",
     "text": [
      "/\n",
      " ├── data\n",
      " │   ├── action (25650, 2) float32\n",
      " │   ├── img (25650, 96, 96, 3) float32\n",
      " │   ├── keypoint (25650, 9, 2) float32\n",
      " │   ├── n_contacts (25650, 1) float32\n",
      " │   └── state (25650, 5) float32\n",
      " └── meta\n",
      "     └── episode_ends (206,) int64\n"
     ]
    }
   ],
   "source": [
    "russ_data = zarr.open(\"pusht_cchi_v7_replay.zarr.zip\", 'r')\n",
    "print(russ_data.tree())"
   ]
  },
  {
   "cell_type": "code",
   "execution_count": 28,
   "metadata": {},
   "outputs": [
    {
     "data": {
      "image/png": "[encoded data removed]",
      "text/plain": [
       "<Figure size 640x480 with 1 Axes>"
      ]
     },
     "metadata": {},
     "output_type": "display_data"
    }
   ],
   "source": [
    "plt.imshow(russ_data['data']['img'][1].astype(np.int))\n",
    "plt.show()"
   ]
  }
 ],
 "metadata": {
  "kernelspec": {
   "display_name": "roboarm",
   "language": "python",
   "name": "python3"
  },
  "language_info": {
   "codemirror_mode": {
    "name": "ipython",
    "version": 3
   },
   "file_extension": ".py",
   "mimetype": "text/x-python",
   "name": "python",
   "nbconvert_exporter": "python",
   "pygments_lexer": "ipython3",
   "version": "3.13.1"
  }
 },
 "nbformat": 4,
 "nbformat_minor": 2
}
